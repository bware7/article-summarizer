{
 "cells": [
  {
   "cell_type": "markdown",
   "metadata": {},
   "source": [
    "# Web Mining and Applied NLP (44-620)\n",
    "\n",
    "## Final Project: Article Summarizer\n",
    "\n",
    "### Student Name: Bin Ware\n",
    "\n",
    "Perform the tasks described in the Markdown cells below.  When you have completed the assignment make sure your code cells have all been run (and have output beneath them) and ensure you have committed and pushed ALL of your changes to your assignment repository.\n",
    "\n",
    "You should bring in code from previous assignments to help you answer the questions below.\n",
    "\n",
    "Every question that requires you to write code will have a code cell underneath it; you may either write your entire solution in that cell or write it in a python file (`.py`), then import and run the appropriate code to answer the question."
   ]
  },
  {
   "cell_type": "code",
   "execution_count": 2,
   "metadata": {},
   "outputs": [
    {
     "data": {
      "text/plain": [
       "<spacytextblob.spacytextblob.SpacyTextBlob at 0x1ff2eccc740>"
      ]
     },
     "execution_count": 2,
     "metadata": {},
     "output_type": "execute_result"
    }
   ],
   "source": [
    "import requests\n",
    "import spacy\n",
    "from bs4 import BeautifulSoup\n",
    "from html import unescape\n",
    "from spacytextblob.spacytextblob import SpacyTextBlob\n",
    "from collections import Counter\n",
    "import matplotlib.pyplot as plt\n",
    "import numpy as np\n",
    "from textblob import TextBlob\n",
    "import re\n",
    "\n",
    "# Load spaCy model and add SpacyTextBlob to pipeline\n",
    "nlp = spacy.load(\"en_core_web_sm\")\n",
    "nlp.add_pipe('spacytextblob')\n"
   ]
  },
  {
   "cell_type": "markdown",
   "metadata": {},
   "source": [
    "### Question 1"
   ]
  },
  {
   "cell_type": "markdown",
   "metadata": {},
   "source": [
    "1. Find on the internet an article or blog post about a topic that interests you and you are able to get the text for using the technologies we have applied in the course.  Get the html for the article and store it in a file (which you must submit with your project)"
   ]
  },
  {
   "cell_type": "code",
   "execution_count": 3,
   "metadata": {},
   "outputs": [
    {
     "name": "stdout",
     "output_type": "stream",
     "text": [
      "HTML content saved to ethiopia_article.html\n"
     ]
    }
   ],
   "source": [
    "article_url = \"https://en.wikipedia.org/wiki/Ethiopia\"\n",
    "response = requests.get(article_url)\n",
    "\n",
    "if response.status_code == 200:\n",
    "    with open('ethiopia_article.html', 'w', encoding='utf-8') as f:\n",
    "        f.write(response.text)\n",
    "    print(\"HTML content saved to ethiopia_article.html\")\n",
    "else:\n",
    "    print(f\"Failed to retrieve the article. Status code: {response.status_code}\")\n"
   ]
  },
  {
   "cell_type": "markdown",
   "metadata": {},
   "source": [
    "### Question 2"
   ]
  },
  {
   "cell_type": "markdown",
   "metadata": {},
   "source": [
    "2. Read in your article's html source from the file you created in question 1 and do sentiment analysis on the article/post's text (use `.get_text()`).  Print the polarity score with an appropriate label.  Additionally print the number of sentences in the original article (with an appropriate label)"
   ]
  },
  {
   "cell_type": "code",
   "execution_count": 4,
   "metadata": {},
   "outputs": [
    {
     "name": "stdout",
     "output_type": "stream",
     "text": [
      "Article Polarity Score: 0.074\n",
      "Number of Sentences in the Article: 2371\n"
     ]
    }
   ],
   "source": [
    "with open('ethiopia_article.html', 'r', encoding='utf-8') as file:\n",
    "    html_content = file.read()\n",
    "\n",
    "soup = BeautifulSoup(html_content, 'html.parser')\n",
    "\n",
    "# Remove scripts and styles\n",
    "for script_or_style in soup(['script', 'style']):\n",
    "    script_or_style.decompose()\n",
    "\n",
    "# Extract main text\n",
    "text = soup.get_text(separator=\" \", strip=True)\n",
    "text = unescape(text)\n",
    "text = re.sub(r'\\s+', ' ', text)\n",
    "\n",
    "# Process text with spaCy\n",
    "doc = nlp(text)\n",
    "\n",
    "# Polarity of entire article\n",
    "article_polarity = doc._.blob.polarity\n",
    "\n",
    "# Number of sentences\n",
    "num_sentences = len(list(doc.sents))\n",
    "\n",
    "print(f\"Article Polarity Score: {article_polarity:.3f}\")\n",
    "print(f\"Number of Sentences in the Article: {num_sentences}\")\n"
   ]
  },
  {
   "cell_type": "markdown",
   "metadata": {},
   "source": [
    "### Question 3"
   ]
  },
  {
   "cell_type": "markdown",
   "metadata": {},
   "source": [
    "3. Load the article text into a trained `spaCy` pipeline, and determine the 5 most frequent tokens (converted to lower case).  Print the common tokens with an appropriate label.  Additionally, print the tokens their frequencies (with appropriate labels)"
   ]
  },
  {
   "cell_type": "code",
   "execution_count": 5,
   "metadata": {},
   "outputs": [
    {
     "name": "stdout",
     "output_type": "stream",
     "text": [
      "Top 5 Most Frequent Tokens:\n",
      "Token: 'ethiopia' - Frequency: 486\n",
      "Token: '^' - Frequency: 373\n",
      "Token: 'ethiopian' - Frequency: 207\n",
      "Token: 'retrieved' - Frequency: 178\n",
      "Token: 'world' - Frequency: 77\n"
     ]
    }
   ],
   "source": [
    "tokens = [token.text.lower() for token in doc if not token.is_stop and not token.is_punct and not token.is_space]\n",
    "token_counts = Counter(tokens)\n",
    "\n",
    "most_common_tokens = token_counts.most_common(5)\n",
    "print(\"Top 5 Most Frequent Tokens:\")\n",
    "for t, f in most_common_tokens:\n",
    "    print(f\"Token: '{t}' - Frequency: {f}\")\n"
   ]
  },
  {
   "cell_type": "markdown",
   "metadata": {},
   "source": [
    "### Question 4"
   ]
  },
  {
   "cell_type": "markdown",
   "metadata": {},
   "source": [
    "4. Load the article text into a trained `spaCy` pipeline, and determine the 5 most frequent lemmas (converted to lower case).  Print the common lemmas with an appropriate label.  Additionally, print the lemmas with their frequencies (with appropriate labels)."
   ]
  },
  {
   "cell_type": "code",
   "execution_count": 6,
   "metadata": {},
   "outputs": [
    {
     "name": "stdout",
     "output_type": "stream",
     "text": [
      "Top 5 Most Frequent Lemmas:\n",
      "Lemma: 'ethiopia' - Frequency: 486\n",
      "Lemma: '^' - Frequency: 373\n",
      "Lemma: 'ethiopian' - Frequency: 207\n",
      "Lemma: 'retrieve' - Frequency: 178\n",
      "Lemma: 'country' - Frequency: 96\n"
     ]
    }
   ],
   "source": [
    "lemmas = [token.lemma_.lower() for token in doc if not token.is_stop and not token.is_punct and not token.is_space]\n",
    "lemma_counts = Counter(lemmas)\n",
    "most_common_lemmas = lemma_counts.most_common(5)\n",
    "\n",
    "print(\"Top 5 Most Frequent Lemmas:\")\n",
    "for l, f in most_common_lemmas:\n",
    "    print(f\"Lemma: '{l}' - Frequency: {f}\")\n"
   ]
  },
  {
   "cell_type": "markdown",
   "metadata": {},
   "source": [
    "### Question 5"
   ]
  },
  {
   "cell_type": "markdown",
   "metadata": {},
   "source": [
    "5. Make a list containing the scores (using tokens) of every sentence in the article, and plot a histogram with appropriate titles and axis labels of the scores. From your histogram, what seems to be the most common range of scores (put the answer in a comment after your code)?"
   ]
  },
  {
   "cell_type": "code",
   "execution_count": null,
   "metadata": {},
   "outputs": [
    {
     "data": {
      "image/png": "[encoded data removed]",
      "text/plain": [
       "<Figure size 1000x600 with 1 Axes>"
      ]
     },
     "metadata": {},
     "output_type": "display_data"
    }
   ],
   "source": [
    "sentence_scores_tokens = []\n",
    "for sent in doc.sents:\n",
    "    # Sentiment using the sentence text directly\n",
    "    sentence_scores_tokens.append(sent._.blob.polarity)\n",
    "\n",
    "plt.figure(figsize=(10,6))\n",
    "plt.hist(sentence_scores_tokens, bins=20, edgecolor='black')\n",
    "plt.title(\"Histogram of Sentence Sentiment Scores (Tokens)\")\n",
    "plt.xlabel(\"Sentiment Polarity\")\n",
    "plt.ylabel(\"Frequency\")\n",
    "plt.grid(True)\n",
    "plt.show()\n"
   ]
  },
  {
   "cell_type": "markdown",
   "metadata": {},
   "source": [
    "### Question 6"
   ]
  },
  {
   "cell_type": "markdown",
   "metadata": {},
   "source": [
    "6. Make a list containing the scores (using lemmas) of every sentence in the article, and plot a histogram with appropriate titles and axis labels of the scores.  From your histogram, what seems to be the most common range of scores (put the answer in a comment after your code)?"
   ]
  },
  {
   "cell_type": "code",
   "execution_count": null,
   "metadata": {},
   "outputs": [
    {
     "data": {
      "image/png": "[encoded data removed]",
      "text/plain": [
       "<Figure size 1000x600 with 1 Axes>"
      ]
     },
     "metadata": {},
     "output_type": "display_data"
    }
   ],
   "source": [
    "sentence_scores_lemmas = []\n",
    "for sent in doc.sents:\n",
    "    sent_lemmas = [token.lemma_ for token in sent if not token.is_stop and not token.is_punct]\n",
    "    lemmatized_sent = \" \".join(sent_lemmas)\n",
    "    lemma_doc = nlp(lemmatized_sent)\n",
    "    sentence_scores_lemmas.append(lemma_doc._.blob.polarity)\n",
    "\n",
    "plt.figure(figsize=(10,6))\n",
    "plt.hist(sentence_scores_lemmas, bins=20, edgecolor='black')\n",
    "plt.title(\"Histogram of Sentence Sentiment Scores (Lemmas)\")\n",
    "plt.xlabel(\"Sentiment Polarity (Lemmas)\")\n",
    "plt.ylabel(\"Frequency\")\n",
    "plt.grid(True)\n",
    "plt.show()\n"
   ]
  },
  {
   "cell_type": "markdown",
   "metadata": {},
   "source": [
    "### Question 7"
   ]
  },
  {
   "cell_type": "markdown",
   "metadata": {},
   "source": [
    "7. Using the histograms from questions 5 and 6, decide a \"cutoff\" score for tokens and lemmas such that fewer than half the sentences would have a score greater than the cutoff score.  Record the scores in this Markdown cell\n",
    "\n",
    "* Cutoff Score (tokens): \n",
    "* Cutoff Score (lemmas):\n",
    "\n",
    "Feel free to change these scores as you generate your summaries.  Ideally, we're shooting for at least 6 sentences for our summary, but don't want more than 10 (these numbers are rough estimates; they depend on the length of your article)."
   ]
  },
  {
   "cell_type": "markdown",
   "metadata": {},
   "source": [
    "-- Cutoff Score (tokens): 0.05\n",
    "-- Cutoff Score (lemmas): 0.05"
   ]
  },
  {
   "cell_type": "markdown",
   "metadata": {},
   "source": [
    "### Question 8"
   ]
  },
  {
   "cell_type": "markdown",
   "metadata": {},
   "source": [
    "8. Create a summary of the article by going through every sentence in the article and adding it to an (initially) empty list if its score (based on tokens) is greater than the cutoff score you identified in question 8.  If your loop variable is named `sent`, you may find it easier to add `sent.text.strip()` to your list of sentences.  Print the summary (I would cleanly generate the summary text by `join`ing the strings in your list together with a space (`' '.join(sentence_list)`)."
   ]
  },
  {
   "cell_type": "code",
   "execution_count": 9,
   "metadata": {},
   "outputs": [
    {
     "name": "stdout",
     "output_type": "stream",
     "text": [
      "Token-based Summary:\n",
      "Ethiopia - Wikipedia Jump to content Main menu Main menu move to sidebar hide Navigation Main page Contents Current events Random article About Wikipedia Contact us Contribute Help Learn to edit Community portal Recent changes Upload file Search Search Appearance Donate Create account Log in Personal tools Donate Create account Log in Pages for logged out editors learn more Contributions Talk Contents move to sidebar hide (Top) 1 Etymology 2 History Toggle History subsection 2.1 Prehistory 2.2 Antiquity 2.3 Middle Ages 2.4 Early Modern Period (1632–1855) 2.5 Age of Imperialism (1855–1916) 2.6 Haile Selassie I era (1916–1974) 2.7 Derg era (1974–1991) 2.8 Federal Democratic Republic (1991–present) 3 Geography Toggle Geography subsection 3.1 What links here Related changes Upload file Special pages Permanent link Page information Cite this page Get shortened URL Download QR code Print/export Download as PDF Printable version In other projects Wikimedia Commons Wikinews Wikiquote Wikivoyage Wikidata item Appearance move to sidebar hide Coordinates : 9°00′N 38°42′E ﻿ / ﻿ 9°N 38.7°E ﻿ / 9; 38.7 From Wikipedia, the free encyclopedia Country in the Horn of Africa This article is about the country. Date format dd/mm/yyyy Drives on right Calling code +251 ISO 3166 code ET Internet TLD .et Ethiopia , [ c ] officially the Federal Democratic Republic of Ethiopia , is a landlocked country located in the Horn of Africa region of East Africa . [ 13 ] As of 2024 [update] , it is home to around 132 million inhabitants, making it the 10th-most populous country in the world, [ 14 ] the 2nd-most populous in Africa after Nigeria , and the most populated landlocked country on Earth. [ 17 ] Anatomically modern humans emerged from modern-day Ethiopia and set out for the Near East and elsewhere in the Middle Paleolithic period. Christianity was embraced by the kingdom in 330, [ 24 ] and Islam arrived by the first Hijra in 615. By the 14th century, the empire had grown in prestige through territorial expansion and fighting against adjacent territories; most notably, the Ethiopian–Adal War (1529–1543) contributed to fragmentation of the empire, which ultimately fell under a decentralization known as Zemene Mesafint in the mid-18th century. In 1941, during World War II , it was occupied by the British Army , and its full sovereignty was restored in 1944 after a period of military administration . Following the dissolution of the Derg in 1991, the Ethiopian People's Revolutionary Democratic Front (EPRDF) dominated the country with a new constitution and ethnic-based federalism .\n"
     ]
    }
   ],
   "source": [
    "token_cutoff = 0.05  # adjust if needed\n",
    "summary_sentences_token = []\n",
    "for sent in doc.sents:\n",
    "    polarity = sent._.blob.polarity\n",
    "    # Basic filter: sentence longer than 10 words and polarity above cutoff\n",
    "    if polarity > token_cutoff and len(sent.text.split()) > 10:\n",
    "        summary_sentences_token.append(sent.text.strip())\n",
    "\n",
    "summary_token = ' '.join(summary_sentences_token[:10])  # up to 10 sentences\n",
    "print(\"Token-based Summary:\")\n",
    "print(summary_token)\n"
   ]
  },
  {
   "cell_type": "markdown",
   "metadata": {},
   "source": [
    "### Question 9"
   ]
  },
  {
   "cell_type": "markdown",
   "metadata": {},
   "source": [
    "9. Print the polarity score of your summary you generated with the token scores (with an appropriate label). Additionally, print the number of sentences in the summarized article."
   ]
  },
  {
   "cell_type": "code",
   "execution_count": 10,
   "metadata": {},
   "outputs": [
    {
     "name": "stdout",
     "output_type": "stream",
     "text": [
      "Token Summary Polarity Score: 0.155\n",
      "Number of Sentences in Token-based Summary: 10\n"
     ]
    }
   ],
   "source": [
    "summary_doc_token = nlp(summary_token)\n",
    "summary_token_polarity = summary_doc_token._.blob.polarity\n",
    "summary_token_sent_count = len(list(summary_doc_token.sents))\n",
    "\n",
    "print(f\"Token Summary Polarity Score: {summary_token_polarity:.3f}\")\n",
    "print(f\"Number of Sentences in Token-based Summary: {summary_token_sent_count}\")\n"
   ]
  },
  {
   "cell_type": "markdown",
   "metadata": {},
   "source": [
    "### Question 10"
   ]
  },
  {
   "cell_type": "markdown",
   "metadata": {},
   "source": [
    "10. Create a summary of the article by going through every sentence in the article and adding it to an (initially) empty list if its score (based on lemmas) is greater than the cutoff score you identified in question 8.  If your loop variable is named `sent`, you may find it easier to add `sent.text.strip()` to your list of sentences.  Print the summary (I would cleanly generate the summary text by `join`ing the strings in your list together with a space (`' '.join(sentence_list)`)."
   ]
  },
  {
   "cell_type": "code",
   "execution_count": 11,
   "metadata": {},
   "outputs": [
    {
     "name": "stdout",
     "output_type": "stream",
     "text": [
      "Lemma-based Summary:\n",
      "Antiquity 2.3 Middle Ages 2.4 Early Modern Period (1632–1855) 2.5 Age of Imperialism (1855–1916) 2.6 Haile Selassie I era (1916–1974) 2.7 Derg era (1974–1991) 2.8 Federal Democratic Republic (1991–present) 3 Geography Toggle Geography subsection 3.1 What links here Related changes Upload file Special pages Permanent link Page information Cite this page Get shortened URL Download QR code Print/export Download as PDF Printable version In other projects Wikimedia Commons Wikinews Wikiquote Wikivoyage Wikidata item Appearance move to sidebar hide Coordinates : 9°00′N 38°42′E ﻿ / ﻿ 9°N 38.7°E ﻿ / 9; 38.7 From Wikipedia, the free encyclopedia Country in the Horn of Africa This article is about the country. Capital and largest city Addis Ababa 9°1′N 38°45′E ﻿ / ﻿ 9.017°N 38.750°E ﻿ / 9.017; 38.750 Official languages Amharic Afar Oromo Somali Tigrinya [ 1 ] [ 2 ] [ 3 ] Regional languages [ 4 ] Harari Sidama Languages of Ethiopia Ethnic groups (2007 [ 5 ] [ 6 ] ) 34.5% Oromo 26.9% Amhara 6.2% Somali 6.1% Tigrayan 4.0% Sidama 2.5% Gurage 2.3% Welayta 1.7% Hadiya 1.7% Afar 1.5% Gamo 12.6% others Religion (2016 [ 7 ] ) 67.3% Christianity 43.8% Ethiopian Orthodoxy 22.8% P'ent'ay 0.7% other Christian 31.3% Islam 0.6% traditional faiths 0.8% others / none Demonym(s) Date format dd/mm/yyyy Drives on right Calling code +251 ISO 3166 code ET Internet TLD .et Ethiopia , [ c ] officially the Federal Democratic Republic of Ethiopia , is a landlocked country located in the Horn of Africa region of East Africa . The national capital and largest city, Addis Ababa , lies several kilometres west of the East African Rift that splits the country into the African and Somali tectonic plates . [ 17 ] Anatomically modern humans emerged from modern-day Ethiopia and set out for the Near East and elsewhere in the Middle Paleolithic period. By the 14th century, the empire had grown in prestige through territorial expansion and fighting against adjacent territories; most notably, the Ethiopian–Adal War (1529–1543) contributed to fragmentation of the empire, which ultimately fell under a decentralization known as Zemene Mesafint in the mid-18th century. [ 28 ] Ethiopia is one of the least developed countries but is sometimes considered an emerging power , [ 29 ] [ 30 ] having the fastest economic growth in sub-Saharan African countries because of foreign direct investment in expansion of agricultural and manufacturing industries; [ 31 ] agriculture is the country's largest economic sector, accounting for over 37% of the gross domestic product as of 2022. The Ethiopians pronounce Ethiopia እትዮጵያ with a Sades or the sixth sound እ as in incorporate and the graph ጰ has no equivalent in English or Latin graphs. Ethiopis is believed to be the twelfth direct descendant of Adam.\n"
     ]
    }
   ],
   "source": [
    "lemma_cutoff = 0.05  # adjust if needed\n",
    "summary_sentences_lemma = []\n",
    "for sent in doc.sents:\n",
    "    sent_lemmas = [token.lemma_ for token in sent if not token.is_stop and not token.is_punct]\n",
    "    lemmatized_sent = \" \".join(sent_lemmas)\n",
    "    lemma_doc = nlp(lemmatized_sent)\n",
    "    lemma_polarity = lemma_doc._.blob.polarity\n",
    "    \n",
    "    if lemma_polarity > lemma_cutoff and len(sent.text.split()) > 10:\n",
    "        summary_sentences_lemma.append(sent.text.strip())\n",
    "\n",
    "summary_lemma = ' '.join(summary_sentences_lemma[:10])\n",
    "print(\"Lemma-based Summary:\")\n",
    "print(summary_lemma)\n"
   ]
  },
  {
   "cell_type": "markdown",
   "metadata": {},
   "source": [
    "### Question 11"
   ]
  },
  {
   "cell_type": "markdown",
   "metadata": {},
   "source": [
    "11. Print the polarity score of your summary you generated with the lemma scores (with an appropriate label). Additionally, print the number of sentences in the summarized article."
   ]
  },
  {
   "cell_type": "code",
   "execution_count": 12,
   "metadata": {},
   "outputs": [
    {
     "name": "stdout",
     "output_type": "stream",
     "text": [
      "Lemma Summary Polarity Score: 0.096\n",
      "Number of Sentences in Lemma-based Summary: 10\n"
     ]
    }
   ],
   "source": [
    "summary_doc_lemma = nlp(summary_lemma)\n",
    "summary_lemma_polarity = summary_doc_lemma._.blob.polarity\n",
    "summary_lemma_sent_count = len(list(summary_doc_lemma.sents))\n",
    "\n",
    "print(f\"Lemma Summary Polarity Score: {summary_lemma_polarity:.3f}\")\n",
    "print(f\"Number of Sentences in Lemma-based Summary: {summary_lemma_sent_count}\")\n"
   ]
  },
  {
   "cell_type": "markdown",
   "metadata": {},
   "source": [
    "### Question 12"
   ]
  },
  {
   "cell_type": "markdown",
   "metadata": {},
   "source": [
    "12.  Compare your polarity scores of your summaries to the polarity scores of the initial article.  Is there a difference?  Why do you think that may or may not be?.  Answer in this Markdown cell.  "
   ]
  },
  {
   "cell_type": "markdown",
   "metadata": {},
   "source": [
    "The original article had a polarity score of approximately 0.074, while the token-based summary had a polarity score of about 0.155 and the lemma-based summary had a polarity score of around 0.096. These differences suggest that by filtering sentences based on a chosen sentiment cutoff, we ended up selecting slightly more positive (or at least less neutral) content for the summaries. The summaries may exclude more neutral or negative parts of the article, thus skewing their overall polarity scores. In other words, we cherry-picked sentences that meet our positivity cutoff, resulting in a more positive overall sentiment compared to the original text."
   ]
  },
  {
   "cell_type": "markdown",
   "metadata": {},
   "source": [
    "### Question 13"
   ]
  },
  {
   "cell_type": "markdown",
   "metadata": {},
   "source": [
    "13. Based on your reading of the original article, which summary do you think is better (if there's a difference).  Why do you think this might be?"
   ]
  },
  {
   "cell_type": "markdown",
   "metadata": {},
   "source": [
    "Both summaries are quite similar in content and sentiment since the article is primarily neutral in tone. However, the token-based summary might retain slightly more contextually rich sentences (because we used the original token-based text), potentially making it a bit clearer. The lemma-based summary’s selection criteria can sometimes lead to sentences that are a bit more fragmented if lemmas change the nuances of sentiment. Overall, given the neutrality of Wikipedia content, there may not be a significant difference, but I would lean slightly towards the token-based summary for clarity and coherence."
   ]
  }
 ],
 "metadata": {
  "kernelspec": {
   "display_name": ".venv",
   "language": "python",
   "name": "python3"
  },
  "language_info": {
   "codemirror_mode": {
    "name": "ipython",
    "version": 3
   },
   "file_extension": ".py",
   "mimetype": "text/x-python",
   "name": "python",
   "nbconvert_exporter": "python",
   "pygments_lexer": "ipython3",
   "version": "3.12.3"
  }
 },
 "nbformat": 4,
 "nbformat_minor": 4
}
